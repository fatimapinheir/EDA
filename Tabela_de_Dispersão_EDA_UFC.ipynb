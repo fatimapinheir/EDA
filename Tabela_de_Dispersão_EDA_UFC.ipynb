{
  "nbformat": 4,
  "nbformat_minor": 0,
  "metadata": {
    "colab": {
      "name": "Tabela de Dispersão - EDA - UFC ",
      "provenance": [],
      "collapsed_sections": [],
      "include_colab_link": true
    },
    "kernelspec": {
      "name": "python3",
      "display_name": "Python 3"
    }
  },
  "cells": [
    {
      "cell_type": "markdown",
      "metadata": {
        "id": "view-in-github",
        "colab_type": "text"
      },
      "source": [
        "<a href=\"https://colab.research.google.com/github/fatimapinheir/EDA/blob/main/Tabela_de_Dispers%C3%A3o_EDA_UFC.ipynb\" target=\"_parent\"><img src=\"https://colab.research.google.com/assets/colab-badge.svg\" alt=\"Open In Colab\"/></a>"
      ]
    },
    {
      "cell_type": "markdown",
      "metadata": {
        "id": "h7ugXWxQxfWG"
      },
      "source": [
        "#Tabela de Dispersão - EDA - UFC \n",
        "\n",
        "Imprementar uma tabela de dispersão usando Simple Tabulation Hashing e endereçamento aberto com tentativa linear junto com table doubling e halving.\n",
        "\n",
        "Devem ser implementadas as seguintes operações:\n",
        "\n",
        "Incluir(inteiro x): inclui o inteiro de 64 bits x (manter mais de uma cópia caso seja repetido)\n",
        "Remover(Inteiro x): remover uma ocorrência do inteiro x (encontrar e remover a primeira ocorrência e não fazer nada caso tal ocorrência não esteja na tabela)\n",
        "Buscar(Inteiro x): acha a posição na tabela de um elemento que contém o inteiro x ou indica que tal elemento não está na tabela\n",
        "\n",
        "ENTRADA:\n",
        "Vocês precisam ler um arquivo de texto que será dado como entrada para realizar um conjunto de operações.\n",
        "Cada linha deste arquivo pode conter as seguintes infermações\n",
        "\n",
        "INC:x (incluir o inteiro x)\n",
        "REM:x (remover o inteiro x)\n",
        "BUS:x (busca pelo inteiro x)\n",
        "\n",
        "Exemplo de um arquivo de entrada:\n",
        "\n",
        "INC:10\n",
        "INC:20\n",
        "REM:10\n",
        "INC:15\n",
        "INC:15\n",
        "REM:17\n",
        "BUS:42\n",
        "INC:42\n",
        "INC:43\n",
        "\n",
        "\n",
        "SAÍDA:\n",
        "Você deve gerar um arquivo de texto como saída \n",
        "As linhas do arquivo de entrada serão copiadas no arquivo de saída separados por duas linhas.\n",
        "Na linha imediatamente seguinte à cópia da linha de entrada, você deve indicar o resultado da operação no seguinte formato:\n",
        "\n",
        "INC:x (incluir o inteiro x)\n",
        "(valor de h(x) - função de dispersão sobre x) (posição onde o elemento entrou na tabela)\n",
        "\n",
        "REM:x (remover o inteiro x)\n",
        "(valor de h(x) - função de dispersão sobre x) (posição onde o elemento foi removido da tabela ou -1 se nenhum elemento foi removido)\n",
        "\n",
        "BUS:x (busca pelo inteiro x)\n",
        "(valor de h(x) - função de dispersão sobre x) (posição onde uma cópia do elemento está na tabela ou -1 se ele não está na tabela)\n",
        "\n",
        "A primeira linha do seu arquivo de saída deve conter o tamanho inicial da tabela. Além disto, sempre que ocorrer um table doubling ou halving ou reconstrução da tabela por muitos elementos removidos, você deve indicar cada um no seguinte formato:\n",
        "Na primeira linha, indicar o tamanho inicial da tabela\n",
        "TAM:(tamanho inicial da tabela)\n",
        "\n",
        "Adicionar esta linha logo após a inclusão de um elemento que dobra o tamanho da tabela.\n",
        "DOBRAR TAM:(novo tamanho da tabela)\n",
        "\n",
        "Adicionar esta linha logo após a remoção de um elemento que divide o tamanho da tabela.\n",
        "METADE TAM:(novo tamanho da tabela)\n",
        "\n",
        "Adicionar esta linha logo após a remoção de um elemento que limpa códigos de remoção\n",
        "LIMPAR - indica a limpeza de códigos de remoção\n",
        "\n",
        "Exemplo de saída:\n",
        "\n",
        "TAM:4\n",
        "\n",
        "INC:10\n",
        "1 1\n",
        "\n",
        "INC:20\n",
        "3 3\n",
        "\n",
        "REM:10\n",
        "1 1\n",
        "\n",
        "INC:15\n",
        "0 0\n",
        "\n",
        "INC:15\n",
        "0 1\n",
        "\n",
        "REM:17\n",
        "2 -1\n",
        "\n",
        "BUS:42\n",
        "3 -1\n",
        "\n",
        "INC:42\n",
        "7 7\n",
        "\n",
        "DOBRAR TAM:8\n",
        "\n",
        "INC:43\n",
        "2 3\n",
        "\n",
        "OBSERVAÇÃO:\n",
        "Lembrar que na tentativa linear, você deve manter a tabela com tamanho pelo menos (1+epsilon)n, para algum epsilon escolhido por vocês."
      ]
    },
    {
      "cell_type": "code",
      "metadata": {
        "id": "Ay7O3EWxphBt"
      },
      "source": [
        "import sys\n",
        "import math\n",
        "import random"
      ],
      "execution_count": 1,
      "outputs": []
    },
    {
      "cell_type": "markdown",
      "metadata": {
        "id": "NZ0B75i-yXnG"
      },
      "source": [
        "Imprementar uma tabela de dispersão usando Simple Tabulation Hashing e endereçamento aberto com tentativa linear junto com table doubling e halving.\n",
        "\n"
      ]
    },
    {
      "cell_type": "code",
      "metadata": {
        "id": "4QkukNFKpmiU"
      },
      "source": [
        "class TableElement:\n",
        "    \"\"\"Doc da classe\"\"\"\n",
        "    def __init__(self, key, value):\n",
        "        self._key = key\n",
        "        self._value = value\n",
        "\n",
        "    def get_key(self):\n",
        "        return self._key\n",
        "    \n",
        "    def get_value(self):\n",
        "        return self._value"
      ],
      "execution_count": 2,
      "outputs": []
    },
    {
      "cell_type": "markdown",
      "metadata": {
        "id": "ltofjDcRyamn"
      },
      "source": [
        "Fale um pouco da Hash, use figuras se necessário"
      ]
    },
    {
      "cell_type": "code",
      "metadata": {
        "id": "j8kdNGgdpupF"
      },
      "source": [
        "class Hash:\n",
        "    \"\"\" Class doc \"\"\"\n",
        "    def __init__(self, _hash = None):\n",
        "        self.table = [None]\n",
        "        self.num_elements = 0 \n",
        "        self.num_removed = 0 \n",
        "        self.hash_keys = []\n",
        "\n",
        "        self.create_hash_key(_hash)\n",
        "\n",
        "    def create_hash_key(self, _hash):\n",
        "        \"\"\" Doc \"\"\"\n",
        "        table_size = 2**8\n",
        "        if _hash is None:\n",
        "            for i in range(0, 8):\n",
        "                table = []\n",
        "\n",
        "                for j in range(table_size):\n",
        "                    table.append(random.randint(0, 2**64))\n",
        "\n",
        "                self.hash_keys.append(table)\n",
        "        else:\n",
        "            if len(_hash) != 8:\n",
        "                raise Exception(\"Invalid Table\")\n",
        "            \n",
        "            self.hash_keys = _hash\n",
        "\n",
        "\n",
        "    def create_binary(self, chave):\n",
        "        \"\"\" Doc \"\"\"\n",
        "        b = [int(i) for i in list('{0:0b}'.format(chave))]\n",
        "\n",
        "        if len(b) < 64:\n",
        "            b = [0] * (64 - len(b)) + b\n",
        "        else:\n",
        "            raise Exception(\"Invalid key\")\n",
        "\n",
        "        b = [b[i:i + 8] for i in range(0, len(b), 8)]\n",
        "        return b\n",
        "\n",
        "    def create_int(self, array_binario):\n",
        "        \"\"\" Doc \"\"\"\n",
        "        return sum(b<<index for index, b in enumerate(array_binario[::-1]))\n",
        "\n",
        "    def xor(self, x, y):\n",
        "        return x ^ y\n",
        "\n",
        "    def get_hash(self, chave):\n",
        "        \"\"\" Doc \"\"\"\n",
        "        t = None\n",
        "\n",
        "        bin_array = self.create_binary(chave)\n",
        "\n",
        "        for index, element in enumerate(bin_array):\n",
        "            if index > 0:\n",
        "                t = self.xor(t, self.__tabela(index, self.create_int(element)))\n",
        "            elif index == 0:\n",
        "                t = self.create_int(element)\n",
        "\n",
        "        return t\n",
        "\n",
        "    def __tabela(self, index, chave):   \n",
        "        return self.hash_keys[index][chave]\n",
        "\n",
        "    def resizing(self, tamanho):\n",
        "        \"\"\" Doc \"\"\"\n",
        "        old_table = self.table\n",
        "\n",
        "        self.num_elements = 0\n",
        "        self.num_removed = 0\n",
        "        self.table = [None] * tamanho\n",
        "\n",
        "        for element in old_table:\n",
        "            if element != None and not math.isnan(element.get_key()):\n",
        "                self.incluir(element)\n",
        "\n",
        "    def check_doubling(self, m):\n",
        "        \"\"\" Doc \"\"\"\n",
        "        if m < (2)*self.num_elements:\n",
        "            self.resizing(len(self.table) * 2)\n",
        "            m = len(self.table)\n",
        "            return True, m\n",
        "        else:\n",
        "            return False, m\n",
        "\n",
        "    def check_halving(self, m):\n",
        "        \"\"\" Doc \"\"\"\n",
        "        if self.num_elements < m/4:\n",
        "            self.resizing(math.ceil(len(self.table) / 2))\n",
        "            m = len(self.table)\n",
        "            return True, m\n",
        "        else:\n",
        "            return False, m\n",
        "    \n",
        "    def check_cleaning(self, m):\n",
        "        \"\"\" Doc \"\"\"\n",
        "        print('Cleaning =' + str(self.num_removed/m > 0.25) + ' | num_removed= ' + str(self.num_removed) + ' | m=' + str(m))\n",
        "        if self.num_removed/m >= 0.25:\n",
        "            self.resizing(len(self.table))\n",
        "            m = len(self.table)\n",
        "            return True\n",
        "        else:\n",
        "            return False\n",
        "\n",
        "\n",
        "    def incluir(self, entrada):\n",
        "        \"\"\" Doc \"\"\"\n",
        "        self.num_elements = self.num_elements + 1\n",
        "\n",
        "        h = self.get_hash(entrada.get_key())\n",
        "        m = len(self.table)\n",
        "        t = h % m\n",
        "        i = 1\n",
        "\n",
        "        while self.table[t] != None and not math.isnan(self.table[t].get_key()):\n",
        "            t = (h + i) % m\n",
        "            i = i + 1\n",
        "\n",
        "        self.table[t] = entrada\n",
        "\n",
        "        doubling, m = self.check_doubling(m)\n",
        "\n",
        "        return [h, t, doubling, m]\n",
        "\n",
        "\n",
        "    def remover(self, chave):\n",
        "        \"\"\" Doc \"\"\"\n",
        "        self.num_elements = self.num_elements - 1\n",
        "\n",
        "        h = self.get_hash(chave)\n",
        "        m = len(self.table)\n",
        "        t = h % m\n",
        "        i = 1\n",
        "\n",
        "        while self.table[t] != None and (self.table[t].get_key() != chave or math.isnan(self.table[t].get_key())):\n",
        "            t = (h + i) % m\n",
        "            i = i + 1\n",
        "\n",
        "        if self.table[t] != None and self.table[t].get_key() == chave:\n",
        "            self.table[t] = TableElement(float(\"NaN\"),float(\"NaN\"))\n",
        "            self.num_removed = self.num_removed + 1\n",
        "\n",
        "            halving, m = self.check_halving(m)\n",
        "            cleaning = self.check_cleaning(m)\n",
        "\n",
        "            return [h, t, cleaning, halving, m]\n",
        "    \n",
        "        else:\n",
        "            return [h, -1, False, False, m]\n",
        "\n",
        "\n",
        "    def buscar(self, chave):\n",
        "        \"\"\" Doc \"\"\"\n",
        "        if chave == None:\n",
        "            return None\n",
        "\n",
        "        h = self.get_hash(chave)\n",
        "        m = len(self.table)\n",
        "\n",
        "        t = h % m\n",
        "        i = 1\n",
        "\n",
        "        while self.table[t] != None and self.table[t].get_key() != chave:\n",
        "            t = (h + i) % m\n",
        "            if self.table[t] != None:\n",
        "                i = i + 1\n",
        "\n",
        "        if self.table[t] != None and self.table[t].get_key() == chave:\n",
        "            return [h, self.table[t].get_value()]\n",
        "        else:\n",
        "            return [h, -1]"
      ],
      "execution_count": 3,
      "outputs": []
    },
    {
      "cell_type": "markdown",
      "metadata": {
        "id": "ZCAD8r7dyc7P"
      },
      "source": [
        "Fale um pouco dessa função "
      ]
    },
    {
      "cell_type": "code",
      "metadata": {
        "id": "Ra8j9s6iqnAX"
      },
      "source": [
        "def write_output(output, operation, value, h, t):\n",
        "    \"\"\" Doc \"\"\"\n",
        "    output.write(operation + \":\" + value + \"\\n\\n\")\n",
        "    output.write(str(h) + \" \" + str(t) + \"\\n\\n\")"
      ],
      "execution_count": 4,
      "outputs": []
    },
    {
      "cell_type": "markdown",
      "metadata": {
        "id": "0eKg2qUayeex"
      },
      "source": [
        "Fale um pouco dessa função"
      ]
    },
    {
      "cell_type": "code",
      "metadata": {
        "id": "d_axE0WNrIai"
      },
      "source": [
        "def check_operacao(comando, output):\n",
        "    \"\"\" Doc \"\"\"\n",
        "    operacao, valor = comando\n",
        "\n",
        "    if operacao == 'INC':\n",
        "        h, t, doubling, m = tabela.incluir(TableElement(int(valor), int(valor)))\n",
        "        write_output(output, operacao, valor, h, t)\n",
        "\n",
        "        if doubling:\n",
        "                output.write(\"DOBRAR TAM:\" + str(m) + \"\\n\\n\")\n",
        "\n",
        "    elif operacao == 'REM':\n",
        "        h, t, cleaning, halving, m = tabela.remover(int(valor)) \n",
        "        write_output(output, operacao, valor, h, t)\n",
        "\n",
        "        if halving:\n",
        "                output.write(\"METADE TAM:\" + str(m) + \"\\n\\n\")\n",
        "        if cleaning:\n",
        "            output.write(\"LIMPAR\\n\\n\")\n",
        "\n",
        "    elif operacao == 'BUS':\n",
        "        h, t = tabela.buscar(int(valor))\n",
        "        write_output(output, operacao, valor, h, t)"
      ],
      "execution_count": 5,
      "outputs": []
    },
    {
      "cell_type": "markdown",
      "metadata": {
        "id": "RD4m227uyfvP"
      },
      "source": [
        "# E Aqui tudo acontece\n",
        "\n",
        "..."
      ]
    },
    {
      "cell_type": "code",
      "metadata": {
        "id": "o9ddwdu3rSu8",
        "outputId": "694d57be-4f72-4e83-9eda-c27fa89e3edb",
        "colab": {
          "base_uri": "https://localhost:8080/"
        }
      },
      "source": [
        "#lendo input\n",
        "tabela = Hash()\n",
        "\n",
        "diretorio = \"/content/\"\n",
        "\n",
        "output = open(diretorio + 'output.txt', 'w')\n",
        "output.write(\"TAM:\" + str(len(tabela.table)) + \"\\n\\n\")\n",
        "\n",
        "input_ = open(diretorio + \"input.txt\", 'r')\n",
        "\n",
        "for line in input_.readlines():\n",
        "    command = line.strip().split(':')\n",
        "    check_operacao(command, output)"
      ],
      "execution_count": 6,
      "outputs": [
        {
          "output_type": "stream",
          "text": [
            "Cleaning =False | num_removed= 1 | m=32\n",
            "Cleaning =False | num_removed= 2 | m=32\n",
            "Cleaning =False | num_removed= 3 | m=32\n",
            "Cleaning =False | num_removed= 4 | m=32\n",
            "Cleaning =False | num_removed= 5 | m=32\n",
            "Cleaning =False | num_removed= 6 | m=32\n",
            "Cleaning =False | num_removed= 7 | m=32\n",
            "Cleaning =False | num_removed= 8 | m=32\n",
            "Cleaning =False | num_removed= 0 | m=16\n",
            "Cleaning =False | num_removed= 1 | m=16\n",
            "Cleaning =False | num_removed= 2 | m=16\n",
            "Cleaning =False | num_removed= 3 | m=16\n",
            "Cleaning =False | num_removed= 0 | m=8\n",
            "Cleaning =False | num_removed= 1 | m=8\n",
            "Cleaning =False | num_removed= 0 | m=4\n",
            "Cleaning =False | num_removed= 0 | m=2\n"
          ],
          "name": "stdout"
        }
      ]
    }
  ]
}